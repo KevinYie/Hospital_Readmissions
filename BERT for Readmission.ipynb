{
 "cells": [
  {
   "cell_type": "code",
   "execution_count": 1,
   "metadata": {},
   "outputs": [],
   "source": [
    "import numpy as np\n",
    "import pandas as pd\n",
    "import matplotlib.pyplot as plt\n",
    "import seaborn as sns\n",
    "import re\n",
    "%matplotlib inline"
   ]
  },
  {
   "cell_type": "markdown",
   "metadata": {},
   "source": [
    "# Preprocessing for Physician Notes"
   ]
  },
  {
   "cell_type": "markdown",
   "metadata": {},
   "source": [
    "### Regex for filtering based on Descriptions"
   ]
  },
  {
   "cell_type": "code",
   "execution_count": 2,
   "metadata": {},
   "outputs": [],
   "source": [
    "descriptions = pd.read_csv(\"List of Physician Descriptions.csv\")\n",
    "descriptions = list(descriptions.iloc[:,0])"
   ]
  },
  {
   "cell_type": "code",
   "execution_count": 3,
   "metadata": {},
   "outputs": [],
   "source": [
    "#Regex extraction for note types\n",
    "adm = [x for x in descriptions if re.search(r\"adm\", x.lower())]\n",
    "prog = [x for x in descriptions if re.search(r\"prog\", x.lower())]\n",
    "icu = [x for x in descriptions if re.search(r\"icu\", x.lower())]"
   ]
  },
  {
   "cell_type": "code",
   "execution_count": 5,
   "metadata": {},
   "outputs": [
    {
     "name": "stdout",
     "output_type": "stream",
     "text": [
      "0.2403846153846154\n",
      "0.2620192307692308\n",
      "0.36778846153846156\n"
     ]
    }
   ],
   "source": [
    "for i in [adm, prog, icu]:\n",
    "    print(len(i)/len(descriptions))"
   ]
  },
  {
   "cell_type": "code",
   "execution_count": 5,
   "metadata": {},
   "outputs": [],
   "source": [
    "#Writing tables out\n",
    "pd.DataFrame(adm).to_csv(\"adm.csv\", index = False)\n",
    "pd.DataFrame(prog).to_csv(\"prog.csv\", index = False)\n",
    "pd.DataFrame(icu).to_csv(\"icu.csv\", index = False)"
   ]
  },
  {
   "cell_type": "code",
   "execution_count": 6,
   "metadata": {},
   "outputs": [
    {
     "data": {
      "text/html": [
       "<div>\n",
       "<style scoped>\n",
       "    .dataframe tbody tr th:only-of-type {\n",
       "        vertical-align: middle;\n",
       "    }\n",
       "\n",
       "    .dataframe tbody tr th {\n",
       "        vertical-align: top;\n",
       "    }\n",
       "\n",
       "    .dataframe thead th {\n",
       "        text-align: right;\n",
       "    }\n",
       "</style>\n",
       "<table border=\"1\" class=\"dataframe\">\n",
       "  <thead>\n",
       "    <tr style=\"text-align: right;\">\n",
       "      <th></th>\n",
       "      <th>ROW_ID</th>\n",
       "      <th>SUBJECT_ID</th>\n",
       "      <th>HADM_ID</th>\n",
       "      <th>CHARTDATE</th>\n",
       "      <th>CHARTTIME</th>\n",
       "      <th>STORETIME</th>\n",
       "      <th>CATEGORY</th>\n",
       "      <th>DESCRIPTION</th>\n",
       "      <th>CGID</th>\n",
       "      <th>ISERROR</th>\n",
       "      <th>TEXT</th>\n",
       "      <th>descriptions</th>\n",
       "    </tr>\n",
       "  </thead>\n",
       "  <tbody>\n",
       "    <tr>\n",
       "      <td>0</td>\n",
       "      <td>16106</td>\n",
       "      <td>29075</td>\n",
       "      <td>179159.0</td>\n",
       "      <td>2116-02-06</td>\n",
       "      <td>2116-02-06 00:25:00</td>\n",
       "      <td>2116-02-06 02:40:50</td>\n",
       "      <td>Physician</td>\n",
       "      <td>Physician Resident Admission Note</td>\n",
       "      <td>16198</td>\n",
       "      <td>NaN</td>\n",
       "      <td>Chief Complaint:  GI bleeding\\r\\n   HPI:\\r\\n  ...</td>\n",
       "      <td>Physician Resident Admission Note</td>\n",
       "    </tr>\n",
       "    <tr>\n",
       "      <td>1</td>\n",
       "      <td>16107</td>\n",
       "      <td>29075</td>\n",
       "      <td>179159.0</td>\n",
       "      <td>2116-02-06</td>\n",
       "      <td>2116-02-06 00:25:00</td>\n",
       "      <td>2116-02-06 02:50:40</td>\n",
       "      <td>Physician</td>\n",
       "      <td>Physician Resident Admission Note</td>\n",
       "      <td>16198</td>\n",
       "      <td>NaN</td>\n",
       "      <td>Chief Complaint:  GI bleeding\\r\\n   HPI:\\r\\n  ...</td>\n",
       "      <td>Physician Resident Admission Note</td>\n",
       "    </tr>\n",
       "  </tbody>\n",
       "</table>\n",
       "</div>"
      ],
      "text/plain": [
       "   ROW_ID  SUBJECT_ID   HADM_ID   CHARTDATE            CHARTTIME  \\\n",
       "0   16106       29075  179159.0  2116-02-06  2116-02-06 00:25:00   \n",
       "1   16107       29075  179159.0  2116-02-06  2116-02-06 00:25:00   \n",
       "\n",
       "             STORETIME    CATEGORY                        DESCRIPTION   CGID  \\\n",
       "0  2116-02-06 02:40:50  Physician   Physician Resident Admission Note  16198   \n",
       "1  2116-02-06 02:50:40  Physician   Physician Resident Admission Note  16198   \n",
       "\n",
       "   ISERROR                                               TEXT  \\\n",
       "0      NaN  Chief Complaint:  GI bleeding\\r\\n   HPI:\\r\\n  ...   \n",
       "1      NaN  Chief Complaint:  GI bleeding\\r\\n   HPI:\\r\\n  ...   \n",
       "\n",
       "                        descriptions  \n",
       "0  Physician Resident Admission Note  \n",
       "1  Physician Resident Admission Note  "
      ]
     },
     "execution_count": 6,
     "metadata": {},
     "output_type": "execute_result"
    }
   ],
   "source": [
    "admissions = pd.read_csv(\"admissions_notes.csv\")\n",
    "admissions.head(2)"
   ]
  },
  {
   "cell_type": "markdown",
   "metadata": {},
   "source": [
    "# Preprocessing for Diagnosis Table"
   ]
  },
  {
   "cell_type": "code",
   "execution_count": 4,
   "metadata": {},
   "outputs": [],
   "source": [
    "diagnosis = pd.read_csv(\"diagnosis.csv\")\n",
    "\n",
    "# Creating variable for total visits\n",
    "from collections import defaultdict\n",
    "temp = defaultdict(lambda: 0)\n",
    "\n",
    "for i in diagnosis[\"SUBJECT_ID\"]:\n",
    "    temp[i] += 1\n",
    "\n",
    "temp = pd.DataFrame(pd.Series(temp)).reset_index()\n",
    "temp.rename(columns = {\"index\": \"SUBJECT_ID\"}, inplace = True)\n",
    "\n",
    "diagnosis = diagnosis.merge(temp, on = \"SUBJECT_ID\", how = \"left\")\n",
    "diagnosis.rename(columns = {0: \"Total Visits\"}, inplace = True)\n",
    "\n",
    "# Creating dummy varaible for multiple visits\n",
    "diagnosis[\"Multiple Visits\"] = diagnosis[\"Total Visits\"].apply(lambda x: False if x == 1 else True)\n",
    "diagnosis.drop(labels = 13518, axis = 0, inplace = True)\n",
    "diagnosis[\"ROW_ID\"] = diagnosis[\"ROW_ID\"].astype(int)"
   ]
  },
  {
   "cell_type": "code",
   "execution_count": 8,
   "metadata": {},
   "outputs": [
    {
     "data": {
      "text/plain": [
       "[(-1, 10)]"
      ]
     },
     "execution_count": 8,
     "metadata": {},
     "output_type": "execute_result"
    },
    {
     "data": {
      "image/png": "[encoded data removed]",
      "text/plain": [
       "<Figure size 432x288 with 1 Axes>"
      ]
     },
     "metadata": {
      "needs_background": "light"
     },
     "output_type": "display_data"
    }
   ],
   "source": [
    "g = sns.countplot(diagnosis[\"Total Visits\"])\n",
    "g.set(xlim=(-1,10))"
   ]
  },
  {
   "cell_type": "code",
   "execution_count": 9,
   "metadata": {},
   "outputs": [
    {
     "data": {
      "text/plain": [
       "Text(0.5, 1.0, 'Class Size for All Patients')"
      ]
     },
     "execution_count": 9,
     "metadata": {},
     "output_type": "execute_result"
    },
    {
     "data": {
      "image/png": "[encoded data removed]",
      "text/plain": [
       "<Figure size 432x288 with 1 Axes>"
      ]
     },
     "metadata": {
      "needs_background": "light"
     },
     "output_type": "display_data"
    }
   ],
   "source": [
    "g = sns.countplot(x = diagnosis[\"Multiple Visits\"])\n",
    "g.set_title(\"Class Size for All Patients\")"
   ]
  },
  {
   "cell_type": "code",
   "execution_count": 10,
   "metadata": {},
   "outputs": [],
   "source": [
    "diagnosis.to_csv(\"diagnosis_with_visits.csv\")"
   ]
  },
  {
   "cell_type": "markdown",
   "metadata": {},
   "source": [
    "### Filtering and creating mental health table with ICD9 codes(granularity = patient level)"
   ]
  },
  {
   "cell_type": "code",
   "execution_count": 5,
   "metadata": {},
   "outputs": [
    {
     "data": {
      "text/html": [
       "<div>\n",
       "<style scoped>\n",
       "    .dataframe tbody tr th:only-of-type {\n",
       "        vertical-align: middle;\n",
       "    }\n",
       "\n",
       "    .dataframe tbody tr th {\n",
       "        vertical-align: top;\n",
       "    }\n",
       "\n",
       "    .dataframe thead th {\n",
       "        text-align: right;\n",
       "    }\n",
       "</style>\n",
       "<table border=\"1\" class=\"dataframe\">\n",
       "  <thead>\n",
       "    <tr style=\"text-align: right;\">\n",
       "      <th></th>\n",
       "      <th>SUBJECT_ID</th>\n",
       "      <th>ROW_ID</th>\n",
       "      <th>HADM_ID</th>\n",
       "      <th>ICD9_CODE</th>\n",
       "      <th>SHORT_TITLE</th>\n",
       "      <th>LONG_TITLE</th>\n",
       "      <th>Total Visits</th>\n",
       "      <th>Multiple Visits</th>\n",
       "    </tr>\n",
       "  </thead>\n",
       "  <tbody>\n",
       "    <tr>\n",
       "      <td>0</td>\n",
       "      <td>45</td>\n",
       "      <td>73</td>\n",
       "      <td>157907</td>\n",
       "      <td>3051</td>\n",
       "      <td>Tobacco use disorder</td>\n",
       "      <td>Tobacco use disorder</td>\n",
       "      <td>1</td>\n",
       "      <td>False</td>\n",
       "    </tr>\n",
       "    <tr>\n",
       "      <td>1</td>\n",
       "      <td>63</td>\n",
       "      <td>2</td>\n",
       "      <td>195961</td>\n",
       "      <td>3079</td>\n",
       "      <td>Special symptom NEC/NOS</td>\n",
       "      <td>Other and unspecified special symptoms or synd...</td>\n",
       "      <td>1</td>\n",
       "      <td>False</td>\n",
       "    </tr>\n",
       "    <tr>\n",
       "      <td>2</td>\n",
       "      <td>114</td>\n",
       "      <td>501</td>\n",
       "      <td>178393</td>\n",
       "      <td>3051</td>\n",
       "      <td>Tobacco use disorder</td>\n",
       "      <td>Tobacco use disorder</td>\n",
       "      <td>1</td>\n",
       "      <td>False</td>\n",
       "    </tr>\n",
       "    <tr>\n",
       "      <td>3</td>\n",
       "      <td>123</td>\n",
       "      <td>574</td>\n",
       "      <td>195632</td>\n",
       "      <td>3051</td>\n",
       "      <td>Tobacco use disorder</td>\n",
       "      <td>Tobacco use disorder</td>\n",
       "      <td>1</td>\n",
       "      <td>False</td>\n",
       "    </tr>\n",
       "    <tr>\n",
       "      <td>4</td>\n",
       "      <td>132</td>\n",
       "      <td>686</td>\n",
       "      <td>160192</td>\n",
       "      <td>3051</td>\n",
       "      <td>Tobacco use disorder</td>\n",
       "      <td>Tobacco use disorder</td>\n",
       "      <td>1</td>\n",
       "      <td>False</td>\n",
       "    </tr>\n",
       "  </tbody>\n",
       "</table>\n",
       "</div>"
      ],
      "text/plain": [
       "   SUBJECT_ID  ROW_ID  HADM_ID ICD9_CODE              SHORT_TITLE  \\\n",
       "0          45      73   157907      3051     Tobacco use disorder   \n",
       "1          63       2   195961      3079  Special symptom NEC/NOS   \n",
       "2         114     501   178393      3051     Tobacco use disorder   \n",
       "3         123     574   195632      3051     Tobacco use disorder   \n",
       "4         132     686   160192      3051     Tobacco use disorder   \n",
       "\n",
       "                                          LONG_TITLE  Total Visits  \\\n",
       "0                               Tobacco use disorder             1   \n",
       "1  Other and unspecified special symptoms or synd...             1   \n",
       "2                               Tobacco use disorder             1   \n",
       "3                               Tobacco use disorder             1   \n",
       "4                               Tobacco use disorder             1   \n",
       "\n",
       "   Multiple Visits  \n",
       "0            False  \n",
       "1            False  \n",
       "2            False  \n",
       "3            False  \n",
       "4            False  "
      ]
     },
     "execution_count": 5,
     "metadata": {},
     "output_type": "execute_result"
    }
   ],
   "source": [
    "sample = list(np.arange(2900,3200, 1))\n",
    "sample = [str(x) for x in sample]\n",
    "mental = diagnosis[diagnosis[\"ICD9_CODE\"].astype(str).isin(sample)]\n",
    "mental = mental.groupby([\"SUBJECT_ID\"]).last().reset_index()\n",
    "mental.head(5)"
   ]
  },
  {
   "cell_type": "code",
   "execution_count": 12,
   "metadata": {},
   "outputs": [
    {
     "data": {
      "text/plain": [
       "Text(0.5, 1.0, 'Class Size for Psychiatric Patients')"
      ]
     },
     "execution_count": 12,
     "metadata": {},
     "output_type": "execute_result"
    },
    {
     "data": {
      "image/png": "[encoded data removed]",
      "text/plain": [
       "<Figure size 432x288 with 1 Axes>"
      ]
     },
     "metadata": {
      "needs_background": "light"
     },
     "output_type": "display_data"
    }
   ],
   "source": [
    "g = sns.countplot(mental[\"Multiple Visits\"])\n",
    "g.set_title(\"Class Size for Psychiatric Patients\")"
   ]
  },
  {
   "cell_type": "code",
   "execution_count": 13,
   "metadata": {},
   "outputs": [
    {
     "data": {
      "text/plain": [
       "Text(0.5, 1.0, 'Top Mental Disorders')"
      ]
     },
     "execution_count": 13,
     "metadata": {},
     "output_type": "execute_result"
    },
    {
     "data": {
      "image/png": "[encoded data removed]",
      "text/plain": [
       "<Figure size 432x288 with 1 Axes>"
      ]
     },
     "metadata": {
      "needs_background": "light"
     },
     "output_type": "display_data"
    }
   ],
   "source": [
    "top = pd.DataFrame(mental[\"SHORT_TITLE\"].value_counts().head(10)).reset_index()\n",
    "g = sns.barplot(x = \"SHORT_TITLE\", y = \"index\", data = top)\n",
    "g.set_title(\"Top Mental Disorders\")"
   ]
  },
  {
   "cell_type": "markdown",
   "metadata": {},
   "source": [
    "### Removing Tobacco use and adding new ICD codes"
   ]
  },
  {
   "cell_type": "code",
   "execution_count": 6,
   "metadata": {},
   "outputs": [
    {
     "data": {
      "text/plain": [
       "78"
      ]
     },
     "execution_count": 6,
     "metadata": {},
     "output_type": "execute_result"
    }
   ],
   "source": [
    "selfharmcodes = [\"E\" + str(x) for x in np.arange(9500, 9600, 1)]\n",
    "selfharmpatients = diagnosis[diagnosis[\"ICD9_CODE\"].isin(selfharmcodes)]\n",
    "len(selfharmpatients)"
   ]
  },
  {
   "cell_type": "code",
   "execution_count": 7,
   "metadata": {
    "scrolled": true
   },
   "outputs": [
    {
     "data": {
      "text/plain": [
       "312"
      ]
     },
     "execution_count": 7,
     "metadata": {},
     "output_type": "execute_result"
    }
   ],
   "source": [
    "#Creating list of ICD9 codes for drug abuse\n",
    "\n",
    "drugcodes = pd.read_excel(\"drugcodes.xlsx\", header = None)\n",
    "drugcodes.rename(columns = {0: \"Codes\", 1: \"Title\"}, inplace = True)\n",
    "drugcodes = list(drugcodes[\"Codes\"])\n",
    "drugcodes = [re.sub(r'\\.', '', str(x)) for x in drugcodes]\n",
    "drugcodes = [x + \"0\" if len(x) == 3 else x for x in drugcodes]\n",
    "drugpatients = diagnosis[diagnosis[\"ICD9_CODE\"].isin(drugcodes)]\n",
    "len(drugpatients)"
   ]
  },
  {
   "cell_type": "code",
   "execution_count": 8,
   "metadata": {},
   "outputs": [
    {
     "data": {
      "text/plain": [
       "619"
      ]
     },
     "execution_count": 8,
     "metadata": {},
     "output_type": "execute_result"
    }
   ],
   "source": [
    "sample = list(np.arange(2900,3200, 1))\n",
    "sample = [str(x) for x in sample]\n",
    "sample.remove(\"3051\")\n",
    "mentalpatients = diagnosis[diagnosis[\"ICD9_CODE\"].isin(sample)]\n",
    "len(mentalpatients)"
   ]
  },
  {
   "cell_type": "code",
   "execution_count": 9,
   "metadata": {},
   "outputs": [
    {
     "data": {
      "text/plain": [
       "597"
      ]
     },
     "execution_count": 9,
     "metadata": {},
     "output_type": "execute_result"
    }
   ],
   "source": [
    "len(set(mentalpatients[\"SUBJECT_ID\"])-set(selfharmpatients[\"SUBJECT_ID\"]))"
   ]
  },
  {
   "cell_type": "code",
   "execution_count": 10,
   "metadata": {},
   "outputs": [
    {
     "data": {
      "text/plain": [
       "970"
      ]
     },
     "execution_count": 10,
     "metadata": {},
     "output_type": "execute_result"
    }
   ],
   "source": [
    "totalpatients = list(selfharmpatients[\"SUBJECT_ID\"])\n",
    "totalpatients.extend(x for x in list(drugpatients[\"SUBJECT_ID\"]) if x not in totalpatients)\n",
    "totalpatients.extend(x for x in list(mentalpatients[\"SUBJECT_ID\"]) if x not in totalpatients)\n",
    "len(totalpatients)"
   ]
  },
  {
   "cell_type": "markdown",
   "metadata": {},
   "source": [
    "# Preprocessing for Discharge Summary\n"
   ]
  },
  {
   "cell_type": "code",
   "execution_count": 2,
   "metadata": {},
   "outputs": [
    {
     "data": {
      "text/html": [
       "<div>\n",
       "<style scoped>\n",
       "    .dataframe tbody tr th:only-of-type {\n",
       "        vertical-align: middle;\n",
       "    }\n",
       "\n",
       "    .dataframe tbody tr th {\n",
       "        vertical-align: top;\n",
       "    }\n",
       "\n",
       "    .dataframe thead th {\n",
       "        text-align: right;\n",
       "    }\n",
       "</style>\n",
       "<table border=\"1\" class=\"dataframe\">\n",
       "  <thead>\n",
       "    <tr style=\"text-align: right;\">\n",
       "      <th></th>\n",
       "      <th>ROW_ID</th>\n",
       "      <th>SUBJECT_ID</th>\n",
       "      <th>HADM_ID</th>\n",
       "      <th>CHARTDATE</th>\n",
       "      <th>CHARTTIME</th>\n",
       "      <th>STORETIME</th>\n",
       "      <th>CATEGORY</th>\n",
       "      <th>DESCRIPTION</th>\n",
       "      <th>CGID</th>\n",
       "      <th>ISERROR</th>\n",
       "      <th>TEXT</th>\n",
       "    </tr>\n",
       "  </thead>\n",
       "  <tbody>\n",
       "    <tr>\n",
       "      <td>0</td>\n",
       "      <td>74.0</td>\n",
       "      <td>22532</td>\n",
       "      <td>167853</td>\n",
       "      <td>2151-08-04</td>\n",
       "      <td>NaN</td>\n",
       "      <td>NaN</td>\n",
       "      <td>Discharge summary</td>\n",
       "      <td>Report</td>\n",
       "      <td>NaN</td>\n",
       "      <td>NaN</td>\n",
       "      <td>Admission Date:  [**2151-7-16**]       Dischar...</td>\n",
       "    </tr>\n",
       "    <tr>\n",
       "      <td>1</td>\n",
       "      <td>75.0</td>\n",
       "      <td>13702</td>\n",
       "      <td>107527</td>\n",
       "      <td>2118-06-14</td>\n",
       "      <td>NaN</td>\n",
       "      <td>NaN</td>\n",
       "      <td>Discharge summary</td>\n",
       "      <td>Report</td>\n",
       "      <td>NaN</td>\n",
       "      <td>NaN</td>\n",
       "      <td>Admission Date:  [**2118-6-2**]       Discharg...</td>\n",
       "    </tr>\n",
       "  </tbody>\n",
       "</table>\n",
       "</div>"
      ],
      "text/plain": [
       "   ROW_ID  SUBJECT_ID  HADM_ID   CHARTDATE  CHARTTIME  STORETIME  \\\n",
       "0    74.0       22532   167853  2151-08-04        NaN        NaN   \n",
       "1    75.0       13702   107527  2118-06-14        NaN        NaN   \n",
       "\n",
       "            CATEGORY DESCRIPTION  CGID  ISERROR  \\\n",
       "0  Discharge summary      Report   NaN      NaN   \n",
       "1  Discharge summary      Report   NaN      NaN   \n",
       "\n",
       "                                                TEXT  \n",
       "0  Admission Date:  [**2151-7-16**]       Dischar...  \n",
       "1  Admission Date:  [**2118-6-2**]       Discharg...  "
      ]
     },
     "execution_count": 2,
     "metadata": {},
     "output_type": "execute_result"
    }
   ],
   "source": [
    "discharge = pd.read_csv(\"discharge.csv\")\n",
    "discharge[\"TEXT\"] = discharge[\"TEXT\"].astype(str)\n",
    "discharge.head(2)"
   ]
  },
  {
   "cell_type": "code",
   "execution_count": 14,
   "metadata": {
    "scrolled": true
   },
   "outputs": [
    {
     "data": {
      "text/plain": [
       "Report      55177\n",
       "Addendum     4475\n",
       "Name: DESCRIPTION, dtype: int64"
      ]
     },
     "execution_count": 14,
     "metadata": {},
     "output_type": "execute_result"
    }
   ],
   "source": [
    "discharge[\"DESCRIPTION\"].value_counts()"
   ]
  },
  {
   "cell_type": "code",
   "execution_count": 12,
   "metadata": {},
   "outputs": [],
   "source": [
    "# Keeping only report data\n",
    "discharge = discharge[discharge[\"DESCRIPTION\"] == \"Report\"]\n",
    "discharge[\"TEXT\"] = discharge[\"TEXT\"].apply(lambda x: re.sub(r'\\r\\n', \" \", str(x)))\n",
    "discharge = discharge.reset_index(drop = True)"
   ]
  },
  {
   "cell_type": "code",
   "execution_count": 4,
   "metadata": {},
   "outputs": [
    {
     "data": {
      "text/plain": [
       "'Admission Date:  [**2119-5-4**]              Discharge Date:   [**2119-5-25**]\\r\\n\\r\\n\\r\\nService: CARDIOTHORACIC\\r\\n\\r\\nAllergies:\\r\\nAmlodipine\\r\\n\\r\\nAttending:[**Last Name (NamePattern1) 1561**]\\r\\nChief Complaint:\\r\\n81 yo F smoker w/ COPD, severe TBM, s/p tracheobronchoplasty [**5-5**]\\r\\ns/p perc trach [**5-13**]\\r\\n\\r\\nMajor Surgical or Invasive Procedure:\\r\\nbronchoscopy 3/31,4/2,3,[**6-12**], [**5-17**], [**5-19**]\\r\\ns/p trachealplasty [**5-5**]\\r\\npercutaneous tracheostomy [**5-13**] after failed extubation\\r\\ndown size trach on [**5-25**] to size 6 cuffless\\r\\n\\r\\n\\r\\nHistory of Present Illness:\\r\\nThis 81 year old woman has a history of COPD. Over the past five\\r\\n\\r\\nyears she has had progressive difficulties with her breathing.\\r\\nIn\\r\\n[**2118-6-4**] she was admitted to [**Hospital1 18**] for respiratory failure\\r\\ndue\\r\\nto a COPD exacerbation. Due to persistent hypoxemia, she\\r\\nrequired\\r\\nintubation and a eventual bronchoscopy on [**2118-6-9**] revealed marked\\r\\n\\r\\nnarrowing of the airways on expiration consistent with\\r\\ntracheomalacia.\\r\\nShe subsequently underwent placement of two\\r\\nsilicone stents, one in the left main stem and one in the\\r\\ntrachea. During the admission the patient had complaints of\\r\\nchest\\r\\npain and ruled out for an MI. She was subsequently discharged to\\r\\n\\r\\n[**Hospital1 **] for physical and pulmonary rehab. Repeat bronchoscopy\\r\\non\\r\\n[**2118-8-1**] revealed granulation tissue at the distal right lateral\\r\\nwall of the tracheal stent. There was significant malacia of the\\r\\n\\r\\nperipheral and central airways with complete collapse of the\\r\\nairways on coughing and forced expiration. Small nodules were\\r\\nalso noted on the vocal cords. She has noticed improvement in\\r\\nher\\r\\nrespiratory status, but most recently has been in discussion\\r\\nwith Dr. [**First Name4 (NamePattern1) 951**] [**Last Name (NamePattern1) 952**] regarding possible tracheobronchial plasty\\r\\n\\r\\nwith mesh. Tracheal stents d/c [**2119-4-19**] in anticipation of\\r\\nsurgery.\\r\\nIn terms of symptoms, she describes many years of intermittent\\r\\nchest pain that she describes as left sided and occurring at any\\r\\n\\r\\ntime. Currently, she notices it about three times a week, and\\r\\nstates that it seems to resolve after three nitroglycerin.\\r\\nShe currently is dependent on oxygen and wears 1.5-2 liters\\r\\naround the clock. She has frequent coughing and brings up \"dark\\r\\nsputum\".\\r\\n\\r\\n\\r\\n\\r\\nPast Medical History:\\r\\nCOPD flare [**6-7**] s/p intubation, s/p distal tracheal to Left Main\\r\\nStem stents placed [**2118-6-9**]. Stents d/c\\'d [**2119-4-19**], CAD w/ atypical\\r\\nangina (LAD 30%, RCA 30%, EF 63%), ^chol, hypothyroidism, htn,\\r\\nhiatal hernia, lacunar CVA, s/p ped struck -> head injury & rib\\r\\nfx, depression\\r\\nPMH:\\r\\nCOPD, s/p admit [**6-7**] for exacerbation requiring intubation\\r\\ntracheobronchomalacia, s/p bronchial stenting\\r\\nLarge hiatal hernia\\r\\nLacunar CVA\\r\\nHypothyroidism by records in CCC, although patient denies and is\\r\\n\\r\\nnot taking any medication\\r\\nDepression\\r\\nMVA, s/p head injury approximately 10 years ago\\r\\nHypertension\\r\\nHysterectomy\\r\\n\\r\\n\\r\\nSocial History:\\r\\nSocial History: The patient is married and worked as a clinical\\r\\npsychologist. Her husband is a pediatric neurologist at\\r\\n[**Hospital3 **]. They have several children, one of which is\\r\\n\\r\\na nurse.\\r\\n\\r\\n\\r\\nFamily History:\\r\\nFamily History: (+) FHx CAD; Father with an MI in his 40\\'s, died\\r\\n\\r\\nof a CVA at age 59\\r\\n\\r\\n\\r\\nPhysical Exam:\\r\\nAdmit H+P\\r\\nGeneral-lovely 81 yr old feamle in NAD.\\r\\nNeuro- intermittently anxious, MAE, PERRLA, L eye ptosis,\\r\\nsymetrical smile, gossly intact.\\r\\nHEENT-PERRLA, sclera anicteric, pharynx- no exud or erythema\\r\\nResp-clear upper, diffuse ronchi, intermit exp wheezes\\r\\nCor- RRR, No M, R, G\\r\\nAbd- soft, NT, ND, no masses. Slight protrusion at area of\\r\\nhiatal hernia\\r\\nExt- no edema or clubbing\\r\\n\\r\\nBrief Hospital Course:\\r\\n82 y/o female admitted [**2119-5-4**] for consideration of\\r\\ntracheoplasty.\\r\\nBronchoscopy done [**5-4**] confirming severe TBM. Underwent\\r\\ntracheoplasty [**5-5**], complicated by resp failure d/t mucous\\r\\nplugging, hypoxia requiring re-intubation resulting in prolonged\\r\\nICU and hospital course. Also developed right upper extrem DVT\\r\\nfrom mid line.\\r\\n\\r\\nPain- Epidural accidently d/c\\'d POD#1, pt briefly used dilaudid\\r\\nPCA intermittently w/ fair pain control. Pt required\\r\\nre-intubation for resp failure d/t secretions and PCA d/c at\\r\\nthat time. Propofol for sedation while intubated. Sedation d/c\\'d\\r\\n[**5-12**] for weaning trial w/ ETT- failed trial. Trach [**5-13**]-weaning\\r\\nefforts as below. Minimal c/o pain since [**5-13**]. Presently pain\\r\\nfree.\\r\\n\\r\\nNeuro- Initially intact- post op aggitation, inhibiting weaning\\r\\nefforts [**5-16**]. Psych eval [**5-18**]-Started on zyprexa and ativan w/\\r\\nimprovement in anxiety. Presently A+Ox3- cooperative and lovely.\\r\\n\\r\\nResp- Extubated POD#2 then required re-intub  [**5-7**] for hypoxia\\r\\nd/t poor cough and mucous plugging. SIMV/PS alt w/CMV at night\\r\\nx4-5d, with CPAP attempts during day.\\r\\nBronchoscopy qd [**Date range (1) 1813**] for secretion management. Bronch [**5-9**]\\r\\nrevealed swollen epiglottis, bronch [**5-10**] - good leak w/ ETT cuff\\r\\ndeflated. Bronch [**5-13**] for eval/trach placement. Last bronch [**5-19**]\\r\\nw/ min secretions present, sputum sent.\\r\\n[**5-13**] perc trach done(#8 Portex- cuffed low pressure maintained to\\r\\npreserve tracheoplasty site). [**5-13**] CPAP15/peep5 initiated post\\r\\ntrach placement. Weaning ongoing.  [**Date range (1) 1814**]- Aggressive weaning\\r\\nw/ increasing episodes of CPAP, progressing to Trach Mask.\\r\\n[**2033-5-20**]-Trach mask overnight w/ no episodes of SOB, or\\r\\nhemodynamic instability. Trach changed to #6 portex- capped and\\r\\n[**Last Name (un) 1815**] well x48hrs on 2LNP. productive cough. Aggressive PT as\\r\\nwell w/ OOB > chair [**Hospital1 **]-tid to total 4-6hr qd. Ambulation\\r\\n~100-120 ft [**5-22**] w/ PT assist.\\r\\n\\r\\nID- Vancomycin started post-op for graft prophylaxis. Fever\\r\\nspike [**2119-5-8**] w/ BAl & sputum sent> + MRSA. Vanco cont to [**4-7**]\\r\\nweeks post trachealplasty. Fever low grade [**5-12**], [**5-15**]> cultured-\\r\\nno new results. [**5-19**]- WBC 20.8 .\\r\\n\\r\\nCardiac-Hypertension controlled w/ hydralazine IV, then d/c and\\r\\ncont controlled. HR 65-75 NSR. Avoiding B Blockers. Lasix 20mg\\r\\nIV qd.\\r\\n[**5-15**]- RUE redness and swelling at site of midline, RUE DVT by\\r\\nultrasound, midline d/c; heparin gtt started and therapeutic\\r\\nrange monitored. [**5-22**]  changed to Lovenox sq [**Hospital1 **]. Coags in good\\r\\ncontrol [**5-23**] (48.2/13.8/1.2)\\r\\nAccess- R midline placed [**2119-5-9**] for access- clotted [**2119-5-15**] and\\r\\nd/c\\'d.  RUE redness and swelling and DVT via ultrasound. [**5-15**]- L\\r\\nbrachial PICC line placed- TPN resumed.\\r\\n\\r\\nGI-Large hiatal hernia- unable to place enteral feeding tube at\\r\\nbedside or underfluoro. Re-attempt [**5-17**] by EGD doboff tube\\r\\nplaced distal esophagus, dislodged in 12hours and removed.\\r\\n\\r\\nNutrition- PPN/TPN initiated [**2119-5-8**]- [**2119-5-25**]. PICC placed\\r\\n[**2119-5-15**]. Speech and Swallow eval [**5-22**]- rec change trach form #8\\r\\nto #6 Portex to allow improved epiglotis and oropharyngeal\\r\\nmovement to assist w/ swallowing. Then re-eval.  Trach changed\\r\\n[**5-23**] to #6 cuffless portex trach. Passed repeat swallow eval and\\r\\n[**Last Name (un) 1815**] diet of regular solids w/ thin liquids- CHIN TUCK to\\r\\nswallow thin liquids. Give meds whole w/ apple sauce. WOULD\\r\\nRECOMMEND repeat video swallow eval in [**8-17**] days to possibly\\r\\neliminate chin tuck- see page 3 referral.\\r\\n\\r\\nEndo- Hypothyroid, maintained on levoxyl.\\r\\n\\r\\nMuscu/Skel- OOB> chair 4-6hours/day, PT consulting.\\r\\n\\r\\n\\r\\nMedications on Admission:\\r\\nadvair 250/50\", atrovent, imdur 60\\', lasix 40\\', lexapro 20\\',\\r\\nlipitor 10\\', prilosec 20\\', mucinex 600\", synthroid 75\\', detrol\\r\\nLA 4\\', ambien 5\\', trazadone 75\\', melatonin prn\\r\\n\\r\\nDischarge Medications:\\r\\n1. Albuterol Sulfate 0.083 % Solution Sig: One (1)  Inhalation\\r\\nQ6H (every 6 hours) as needed for wheezing.\\r\\n2. Ipratropium Bromide 0.02 % Solution Sig: One (1)  Inhalation\\r\\nQ6H (every 6 hours) as needed for wheezing.\\r\\n3. Fluticasone-Salmeterol 250-50 mcg/Dose Disk with Device Sig:\\r\\nOne (1) Disk with Device Inhalation [**Hospital1 **] (2 times a day).\\r\\n4. Albuterol 90 mcg/Actuation Aerosol Sig: 1-2 Puffs Inhalation\\r\\nQ6H (every 6 hours) as needed.\\r\\n5. Ipratropium Bromide 18 mcg/Actuation Aerosol Sig: Two (2)\\r\\nPuff Inhalation QID (4 times a day).\\r\\n6. Acetaminophen 325 mg Tablet Sig: 1-2 Tablets PO Q4-6H (every\\r\\n4 to 6 hours) as needed.\\r\\n7. Sodium Chloride 0.65 % Aerosol, Spray Sig: [**2-5**] Sprays Nasal\\r\\nQID (4 times a day) as needed.\\r\\n8. Camphor-Menthol 0.5-0.5 % Lotion Sig: One (1) Appl Topical\\r\\nTID (3 times a day) as needed.\\r\\n9. Enoxaparin Sodium 60 mg/0.6mL Syringe Sig: One (1)\\r\\nSubcutaneous Q12H (every 12 hours).\\r\\n10. Trazodone HCl 50 mg Tablet Sig: 1.5 Tablets PO HS (at\\r\\nbedtime) as needed.\\r\\n11. Escitalopram Oxalate 10 mg Tablet Sig: Two (2) Tablet PO\\r\\nDAILY (Daily).\\r\\n12. Nystatin 100,000 unit/g Cream Sig: One (1) Appl Topical  [**Hospital1 **]\\r\\n(2 times a day).\\r\\n13. Pantoprazole Sodium 40 mg Tablet, Delayed Release (E.C.)\\r\\nSig: One (1) Tablet, Delayed Release (E.C.) PO Q24H (every 24\\r\\nhours).\\r\\n14. Tolterodine Tartrate 2 mg Tablet Sig: One (1) Tablet PO BID\\r\\n(2 times a day).\\r\\n15. Levothyroxine Sodium 75 mcg Tablet Sig: One (1) Tablet PO\\r\\nDAILY (Daily).\\r\\n16. Heparin Lock Flush (Porcine) 100 unit/mL Syringe Sig: One\\r\\n(1) ML Intravenous  DAILY (Daily) as needed.\\r\\n\\r\\n\\r\\nDischarge Disposition:\\r\\nExtended Care\\r\\n\\r\\nFacility:\\r\\n[**Hospital3 7**] & Rehab Center - [**Hospital1 8**]\\r\\n\\r\\nDischarge Diagnosis:\\r\\nCOPD, Coronary Artery Disease/atypical angina (LAD 30%, RCA 30%,\\r\\nEF 63%), hypercholesterolemia, hypothyroidism, Hypertension,\\r\\nhiatal hernia, Cerebral Vascular Accident,s/p Motor Vehicle\\r\\nColision-> head injury & rib fracture.\\r\\nTBM- s/p tracheoplasty.\\r\\n\\r\\n\\r\\nDischarge Condition:\\r\\ngood\\r\\n\\r\\nDischarge Instructions:\\r\\nplease update Dr.[**Name (NI) 1816**] [**Telephone/Fax (1) 170**] office for:  fever,\\r\\nshortness of breath, chest pain , productive cough or if you\\r\\nhave any questions or concerns.\\r\\n\\r\\n\\r\\nCompleted by:[**2119-5-25**]'"
      ]
     },
     "execution_count": 4,
     "metadata": {},
     "output_type": "execute_result"
    }
   ],
   "source": [
    "discharge[\"TEXT\"][2]"
   ]
  },
  {
   "cell_type": "markdown",
   "metadata": {},
   "source": [
    "# Creating Final Joined Table"
   ]
  },
  {
   "cell_type": "code",
   "execution_count": 13,
   "metadata": {},
   "outputs": [
    {
     "data": {
      "text/html": [
       "<div>\n",
       "<style scoped>\n",
       "    .dataframe tbody tr th:only-of-type {\n",
       "        vertical-align: middle;\n",
       "    }\n",
       "\n",
       "    .dataframe tbody tr th {\n",
       "        vertical-align: top;\n",
       "    }\n",
       "\n",
       "    .dataframe thead th {\n",
       "        text-align: right;\n",
       "    }\n",
       "</style>\n",
       "<table border=\"1\" class=\"dataframe\">\n",
       "  <thead>\n",
       "    <tr style=\"text-align: right;\">\n",
       "      <th></th>\n",
       "      <th>SUBJECT_ID</th>\n",
       "      <th>ROW_ID</th>\n",
       "      <th>HADM_ID</th>\n",
       "      <th>CHARTDATE</th>\n",
       "      <th>CHARTTIME</th>\n",
       "      <th>STORETIME</th>\n",
       "      <th>CATEGORY</th>\n",
       "      <th>DESCRIPTION</th>\n",
       "      <th>CGID</th>\n",
       "      <th>ISERROR</th>\n",
       "      <th>TEXT</th>\n",
       "      <th>ICD9_CODE</th>\n",
       "      <th>SHORT_TITLE</th>\n",
       "      <th>LONG_TITLE</th>\n",
       "      <th>Total Visits</th>\n",
       "      <th>Multiple Visits</th>\n",
       "      <th>hopi</th>\n",
       "      <th>full_text</th>\n",
       "      <th>discharge_diagnosis_instructions</th>\n",
       "    </tr>\n",
       "  </thead>\n",
       "  <tbody>\n",
       "    <tr>\n",
       "      <td>0</td>\n",
       "      <td>63</td>\n",
       "      <td>4347.0</td>\n",
       "      <td>195961</td>\n",
       "      <td>2169-01-07</td>\n",
       "      <td>NaN</td>\n",
       "      <td>NaN</td>\n",
       "      <td>Discharge summary</td>\n",
       "      <td>Report</td>\n",
       "      <td>NaN</td>\n",
       "      <td>NaN</td>\n",
       "      <td>Admission Date:  [**2169-1-7**]              D...</td>\n",
       "      <td>3079</td>\n",
       "      <td>Special symptom NEC/NOS</td>\n",
       "      <td>Other and unspecified special symptoms or synd...</td>\n",
       "      <td>1</td>\n",
       "      <td>0</td>\n",
       "      <td>this is a 88 year-old man with dementia, copd...</td>\n",
       "      <td>history of present illness: this is a 88 year-...</td>\n",
       "      <td>discharge diagnosis: primary: fall  secondary:...</td>\n",
       "    </tr>\n",
       "    <tr>\n",
       "      <td>1</td>\n",
       "      <td>78</td>\n",
       "      <td>787.0</td>\n",
       "      <td>100536</td>\n",
       "      <td>2177-02-17</td>\n",
       "      <td>NaN</td>\n",
       "      <td>NaN</td>\n",
       "      <td>Discharge summary</td>\n",
       "      <td>Report</td>\n",
       "      <td>NaN</td>\n",
       "      <td>NaN</td>\n",
       "      <td>Admission Date:  [**2177-2-14**]       Dischar...</td>\n",
       "      <td>E8532</td>\n",
       "      <td>Acc poisn-benzdiaz tranq</td>\n",
       "      <td>Accidental poisoning by benzodiazepine-based t...</td>\n",
       "      <td>1</td>\n",
       "      <td>0</td>\n",
       "      <td>this is a 48-year-old hiv positive african-a...</td>\n",
       "      <td>history of present illness:  this is a 48-year...</td>\n",
       "      <td>None</td>\n",
       "    </tr>\n",
       "  </tbody>\n",
       "</table>\n",
       "</div>"
      ],
      "text/plain": [
       "   SUBJECT_ID  ROW_ID  HADM_ID   CHARTDATE  CHARTTIME  STORETIME  \\\n",
       "0          63  4347.0   195961  2169-01-07        NaN        NaN   \n",
       "1          78   787.0   100536  2177-02-17        NaN        NaN   \n",
       "\n",
       "            CATEGORY DESCRIPTION  CGID  ISERROR  \\\n",
       "0  Discharge summary      Report   NaN      NaN   \n",
       "1  Discharge summary      Report   NaN      NaN   \n",
       "\n",
       "                                                TEXT ICD9_CODE  \\\n",
       "0  Admission Date:  [**2169-1-7**]              D...      3079   \n",
       "1  Admission Date:  [**2177-2-14**]       Dischar...     E8532   \n",
       "\n",
       "                SHORT_TITLE  \\\n",
       "0   Special symptom NEC/NOS   \n",
       "1  Acc poisn-benzdiaz tranq   \n",
       "\n",
       "                                          LONG_TITLE  Total Visits  \\\n",
       "0  Other and unspecified special symptoms or synd...             1   \n",
       "1  Accidental poisoning by benzodiazepine-based t...             1   \n",
       "\n",
       "   Multiple Visits                                               hopi  \\\n",
       "0                0   this is a 88 year-old man with dementia, copd...   \n",
       "1                0    this is a 48-year-old hiv positive african-a...   \n",
       "\n",
       "                                           full_text  \\\n",
       "0  history of present illness: this is a 88 year-...   \n",
       "1  history of present illness:  this is a 48-year...   \n",
       "\n",
       "                    discharge_diagnosis_instructions  \n",
       "0  discharge diagnosis: primary: fall  secondary:...  \n",
       "1                                               None  "
      ]
     },
     "execution_count": 13,
     "metadata": {},
     "output_type": "execute_result"
    }
   ],
   "source": [
    "#Joining previously created two tables\n",
    "filtered_discharge = discharge[discharge[\"SUBJECT_ID\"].isin(totalpatients)].groupby([\"SUBJECT_ID\"]).first().reset_index()\n",
    "filtered_diagnosis = diagnosis.groupby([\"SUBJECT_ID\"]).first().reset_index().drop(columns = [\"ROW_ID\", \"HADM_ID\"])\n",
    "df = filtered_discharge.merge(filtered_diagnosis, on = \"SUBJECT_ID\", how = \"left\")\n",
    "\n",
    "# Creating history of present illness column\n",
    "temp = df[\"TEXT\"].apply(lambda x: re.search(r'history of present illness:.*?:', x.lower()))\n",
    "df = df.iloc[temp.dropna().index]\n",
    "df[\"hopi\"] = df[\"TEXT\"].apply(lambda x: re.findall(r'history of present illness:.*?:', x.lower())[0].rsplit(\" \", 3)[0])\n",
    "df[\"hopi\"] = [x.split(\":\")[1] if len(x.split(\":\")) == 2 else x for x in df[\"hopi\"]]\n",
    "df = df.reset_index(drop = True)\n",
    "df.head(2)\n",
    "\n",
    "# Creating column with all text\n",
    "df[\"full_text\"] = df[\"TEXT\"].apply(lambda x: re.findall(r'history of present illness:.*?:', x.lower())[0])\n",
    "\n",
    "#Creating column of discharge instructions\n",
    "df[\"discharge_diagnosis_instructions\"] = df[\"TEXT\"].apply(lambda x: re.findall(r'discharge diagnosis.*', x.lower()))\n",
    "df[\"discharge_diagnosis_instructions\"] = [x[0] if len(x) > 0 else \"None\" for x in df[\"discharge_diagnosis_instructions\"]]\n",
    "\n",
    "# Recoding Multiple Visits Columns\n",
    "df[\"Multiple Visits\"] = [1 if x == True else 0 for x in df[\"Multiple Visits\"]]\n",
    "\n",
    "df.head(2)"
   ]
  },
  {
   "cell_type": "code",
   "execution_count": 14,
   "metadata": {},
   "outputs": [],
   "source": [
    "df.to_csv(\"final.csv\")"
   ]
  },
  {
   "cell_type": "code",
   "execution_count": 23,
   "metadata": {},
   "outputs": [
    {
     "data": {
      "text/plain": [
       "Text(0.5, 1.0, 'Class Count for Final DataFrame')"
      ]
     },
     "execution_count": 23,
     "metadata": {},
     "output_type": "execute_result"
    },
    {
     "data": {
      "image/png": "[encoded data removed]",
      "text/plain": [
       "<Figure size 432x288 with 1 Axes>"
      ]
     },
     "metadata": {
      "needs_background": "light"
     },
     "output_type": "display_data"
    }
   ],
   "source": [
    "g = sns.countplot(df[\"Multiple Visits\"])\n",
    "g.set_title(\"Class Count for Final DataFrame\")"
   ]
  },
  {
   "cell_type": "code",
   "execution_count": 24,
   "metadata": {},
   "outputs": [
    {
     "data": {
      "text/plain": [
       "0.6729910714285714"
      ]
     },
     "execution_count": 24,
     "metadata": {},
     "output_type": "execute_result"
    }
   ],
   "source": [
    "len(df[df[\"Multiple Visits\"] == 0])/len(df)"
   ]
  },
  {
   "cell_type": "markdown",
   "metadata": {},
   "source": [
    "# Modeling with LSTM (using history of past illness)"
   ]
  },
  {
   "cell_type": "code",
   "execution_count": 2,
   "metadata": {},
   "outputs": [
    {
     "name": "stderr",
     "output_type": "stream",
     "text": [
      "Using TensorFlow backend.\n"
     ]
    }
   ],
   "source": [
    "import nltk\n",
    "from nltk.corpus import stopwords\n",
    "\n",
    "from numpy import array\n",
    "from keras.preprocessing.text import one_hot\n",
    "from keras.preprocessing.sequence import pad_sequences\n",
    "from keras.models import Sequential\n",
    "from keras.layers.core import Activation, Dropout, Dense\n",
    "from keras.layers import Flatten\n",
    "from keras.layers import GlobalMaxPooling1D\n",
    "from keras.layers import LSTM\n",
    "from keras.layers.embeddings import Embedding\n",
    "from sklearn.model_selection import train_test_split\n",
    "from keras.preprocessing.text import Tokenizer\n",
    "from numpy import array\n",
    "from numpy import asarray\n",
    "from numpy import zeros\n",
    "from gensim import utils\n",
    "import gensim.parsing.preprocessing as gsp\n"
   ]
  },
  {
   "cell_type": "markdown",
   "metadata": {},
   "source": [
    "### Preprocessing for model input"
   ]
  },
  {
   "cell_type": "code",
   "execution_count": 18,
   "metadata": {},
   "outputs": [],
   "source": [
    "filters = [\n",
    "           gsp.strip_punctuation,\n",
    "           gsp.remove_stopwords, \n",
    "           gsp.stem_text\n",
    "          ]\n",
    "\n",
    "def clean_text(s):\n",
    "    s = s.lower()\n",
    "    s = utils.to_unicode(s)\n",
    "    for f in filters:\n",
    "        s = f(s)\n",
    "    return s\n",
    "\n",
    "df[\"hopi\"] = df[\"hopi\"].apply(clean_text)\n",
    "df[\"full_text\"] = df[\"full_text\"].apply(clean_text)\n",
    "df[\"discharge_diagnosis_instructions\"] = df[\"discharge_diagnosis_instructions\"].apply(clean_text)"
   ]
  },
  {
   "cell_type": "markdown",
   "metadata": {},
   "source": [
    "### Creating embeddings"
   ]
  },
  {
   "cell_type": "code",
   "execution_count": 27,
   "metadata": {},
   "outputs": [],
   "source": [
    "#Creating training and test\n",
    "X_train, X_test, y_train, y_test = train_test_split(df[\"hopi\"], df[\"Multiple Visits\"], test_size = 0.3, random_state = 42)\n",
    "\n",
    "#Tokenize inputs\n",
    "tokenizer = Tokenizer()\n",
    "tokenizer.fit_on_texts(X_train)\n",
    "X_train =tokenizer.texts_to_sequences(X_train)\n",
    "X_test = tokenizer.texts_to_sequences(X_test)\n",
    "\n",
    "#Padding for same input length\n",
    "vocab_size = len(tokenizer.word_index) + 1\n",
    "# maxlen = max([len(x) for x in X_train])\n",
    "maxlen = 150\n",
    "\n",
    "X_train = pad_sequences(X_train, padding = \"post\", maxlen = maxlen)\n",
    "X_test = pad_sequences(X_test, padding = \"post\", maxlen = maxlen)\n",
    "\n",
    "# Reading in GloVe embeddings\n",
    "embeddings_dictionary = dict()\n",
    "glove_file = open('glove.6B.100d.txt', encoding=\"utf8\")\n",
    "\n",
    "for line in glove_file:\n",
    "    records = line.split()\n",
    "    word = records[0]\n",
    "    vector_dimensions = asarray(records[1:], dtype='float32')\n",
    "    embeddings_dictionary [word] = vector_dimensions\n",
    "glove_file.close()\n",
    "\n",
    "# Creating embedding matrix with our words\n",
    "embedding_matrix = zeros((vocab_size, 100))\n",
    "for word, index in tokenizer.word_index.items():\n",
    "    embedding_vector = embeddings_dictionary.get(word)\n",
    "    if embedding_vector is not None:\n",
    "        embedding_matrix[index] = embedding_vector"
   ]
  },
  {
   "cell_type": "markdown",
   "metadata": {},
   "source": [
    "### Creating LSTM network"
   ]
  },
  {
   "cell_type": "code",
   "execution_count": 28,
   "metadata": {},
   "outputs": [
    {
     "name": "stderr",
     "output_type": "stream",
     "text": [
      "C:\\Users\\Kevin\\Anaconda3\\lib\\site-packages\\ipykernel_launcher.py:4: UserWarning: Update your `LSTM` call to the Keras 2 API: `LSTM(63, dropout=0.3, recurrent_dropout=0.3)`\n",
      "  after removing the cwd from sys.path.\n"
     ]
    },
    {
     "name": "stdout",
     "output_type": "stream",
     "text": [
      "Model: \"sequential_1\"\n",
      "_________________________________________________________________\n",
      "Layer (type)                 Output Shape              Param #   \n",
      "=================================================================\n",
      "embedding_1 (Embedding)      (None, 150, 100)          583000    \n",
      "_________________________________________________________________\n",
      "lstm_1 (LSTM)                (None, 63)                41328     \n",
      "_________________________________________________________________\n",
      "dense_1 (Dense)              (None, 1)                 64        \n",
      "=================================================================\n",
      "Total params: 624,392\n",
      "Trainable params: 41,392\n",
      "Non-trainable params: 583,000\n",
      "_________________________________________________________________\n",
      "None\n"
     ]
    }
   ],
   "source": [
    "model = Sequential()\n",
    "embedding_layer = Embedding(vocab_size, 100, weights=[embedding_matrix], input_length=maxlen , trainable=False)\n",
    "model.add(embedding_layer)\n",
    "model.add(LSTM(63, dropout_W = 0.3, dropout_U = 0.3))\n",
    "\n",
    "model.add(Dense(1, activation='sigmoid'))\n",
    "model.compile(optimizer='adam', loss='binary_crossentropy', metrics=['accuracy'])\n",
    "\n",
    "print(model.summary())"
   ]
  },
  {
   "cell_type": "markdown",
   "metadata": {},
   "source": [
    "### Training LSTM"
   ]
  },
  {
   "cell_type": "code",
   "execution_count": 29,
   "metadata": {},
   "outputs": [
    {
     "name": "stdout",
     "output_type": "stream",
     "text": [
      "269/269 [==============================] - 0s 825us/step\n"
     ]
    }
   ],
   "source": [
    "history = model.fit(X_train, y_train, batch_size=60, epochs=50, verbose=0, validation_split=0.3, class_weight={0: 0.8, 1: 1})\n",
    "\n",
    "score = model.evaluate(X_test, y_test, verbose=1)"
   ]
  },
  {
   "cell_type": "code",
   "execution_count": 30,
   "metadata": {},
   "outputs": [
    {
     "data": {
      "image/png": "[encoded data removed]",
      "text/plain": [
       "<Figure size 432x288 with 1 Axes>"
      ]
     },
     "metadata": {
      "needs_background": "light"
     },
     "output_type": "display_data"
    },
    {
     "data": {
      "image/png": "[encoded data removed]",
      "text/plain": [
       "<Figure size 432x288 with 1 Axes>"
      ]
     },
     "metadata": {
      "needs_background": "light"
     },
     "output_type": "display_data"
    }
   ],
   "source": [
    "plt.plot(history.history['accuracy'])\n",
    "plt.plot(history.history['val_accuracy'])\n",
    "\n",
    "plt.title('model accuracy')\n",
    "plt.ylabel('accuracy')\n",
    "plt.xlabel('epoch')\n",
    "plt.legend(['train','test'], loc='upper left')\n",
    "plt.show()\n",
    "\n",
    "plt.plot(history.history['loss'])\n",
    "plt.plot(history.history['val_loss'])\n",
    "\n",
    "plt.title('model loss')\n",
    "plt.ylabel('loss')\n",
    "plt.xlabel('epoch')\n",
    "plt.legend(['train','test'], loc='upper left')\n",
    "plt.show()"
   ]
  },
  {
   "cell_type": "code",
   "execution_count": 31,
   "metadata": {},
   "outputs": [
    {
     "data": {
      "text/plain": [
       "[0.7660644201762614, 0.6579925417900085]"
      ]
     },
     "execution_count": 31,
     "metadata": {},
     "output_type": "execute_result"
    }
   ],
   "source": [
    "score"
   ]
  },
  {
   "cell_type": "markdown",
   "metadata": {},
   "source": [
    "#  Modelling with LSTM using full discharge summary"
   ]
  },
  {
   "cell_type": "code",
   "execution_count": 32,
   "metadata": {},
   "outputs": [],
   "source": [
    "#Creating training and test\n",
    "X_train, X_test, y_train, y_test = train_test_split(df[\"full_text\"], df[\"Multiple Visits\"], test_size = 0.3, random_state = 42)\n",
    "\n",
    "#Tokenize inputs\n",
    "tokenizer = Tokenizer()\n",
    "tokenizer.fit_on_texts(X_train)\n",
    "X_train =tokenizer.texts_to_sequences(X_train)\n",
    "X_test = tokenizer.texts_to_sequences(X_test)\n",
    "\n",
    "#Padding for same input length\n",
    "vocab_size = len(tokenizer.word_index) + 1\n",
    "# maxlen = max([len(x) for x in X_train])\n",
    "maxlen = 350\n",
    "\n",
    "X_train = pad_sequences(X_train, padding = \"post\", maxlen = maxlen)\n",
    "X_test = pad_sequences(X_test, padding = \"post\", maxlen = maxlen)\n",
    "\n",
    "# Reading in GloVe embeddings\n",
    "embeddings_dictionary = dict()\n",
    "glove_file = open('glove.6B.100d.txt', encoding=\"utf8\")\n",
    "\n",
    "for line in glove_file:\n",
    "    records = line.split()\n",
    "    word = records[0]\n",
    "    vector_dimensions = asarray(records[1:], dtype='float32')\n",
    "    embeddings_dictionary [word] = vector_dimensions\n",
    "glove_file.close()\n",
    "\n",
    "# Creating embedding matrix with our words\n",
    "embedding_matrix = zeros((vocab_size, 100))\n",
    "for word, index in tokenizer.word_index.items():\n",
    "    embedding_vector = embeddings_dictionary.get(word)\n",
    "    if embedding_vector is not None:\n",
    "        embedding_matrix[index] = embedding_vector"
   ]
  },
  {
   "cell_type": "code",
   "execution_count": 33,
   "metadata": {},
   "outputs": [
    {
     "name": "stderr",
     "output_type": "stream",
     "text": [
      "C:\\Users\\Kevin\\Anaconda3\\lib\\site-packages\\ipykernel_launcher.py:4: UserWarning: Update your `LSTM` call to the Keras 2 API: `LSTM(128, dropout=0.3, recurrent_dropout=0.3)`\n",
      "  after removing the cwd from sys.path.\n"
     ]
    },
    {
     "name": "stdout",
     "output_type": "stream",
     "text": [
      "Model: \"sequential_2\"\n",
      "_________________________________________________________________\n",
      "Layer (type)                 Output Shape              Param #   \n",
      "=================================================================\n",
      "embedding_2 (Embedding)      (None, 350, 100)          584100    \n",
      "_________________________________________________________________\n",
      "lstm_2 (LSTM)                (None, 128)               117248    \n",
      "_________________________________________________________________\n",
      "dense_2 (Dense)              (None, 1)                 129       \n",
      "=================================================================\n",
      "Total params: 701,477\n",
      "Trainable params: 117,377\n",
      "Non-trainable params: 584,100\n",
      "_________________________________________________________________\n",
      "None\n"
     ]
    }
   ],
   "source": [
    "model = Sequential()\n",
    "embedding_layer = Embedding(vocab_size, 100, weights=[embedding_matrix], input_length=maxlen , trainable=False)\n",
    "model.add(embedding_layer)\n",
    "model.add(LSTM(128, dropout_W = 0.3, dropout_U = 0.3))\n",
    "\n",
    "model.add(Dense(1, activation='sigmoid'))\n",
    "model.compile(optimizer='adam', loss='binary_crossentropy', metrics=['accuracy'])\n",
    "\n",
    "print(model.summary())"
   ]
  },
  {
   "cell_type": "code",
   "execution_count": 34,
   "metadata": {},
   "outputs": [
    {
     "name": "stdout",
     "output_type": "stream",
     "text": [
      "269/269 [==============================] - 0s 2ms/step\n"
     ]
    }
   ],
   "source": [
    "history = model.fit(X_train, y_train, batch_size=80, epochs=50, verbose=0, validation_split=0.3, class_weight = {0:0.7, 1:1})\n",
    "score = model.evaluate(X_test, y_test, verbose=1)"
   ]
  },
  {
   "cell_type": "code",
   "execution_count": 35,
   "metadata": {},
   "outputs": [
    {
     "data": {
      "image/png": "[encoded data removed]",
      "text/plain": [
       "<Figure size 432x288 with 1 Axes>"
      ]
     },
     "metadata": {
      "needs_background": "light"
     },
     "output_type": "display_data"
    },
    {
     "data": {
      "image/png": "[encoded data removed]",
      "text/plain": [
       "<Figure size 432x288 with 1 Axes>"
      ]
     },
     "metadata": {
      "needs_background": "light"
     },
     "output_type": "display_data"
    }
   ],
   "source": [
    "plt.plot(history.history['accuracy'])\n",
    "plt.plot(history.history['val_accuracy'])\n",
    "\n",
    "plt.title('model accuracy')\n",
    "plt.ylabel('accuracy')\n",
    "plt.xlabel('epoch')\n",
    "plt.legend(['train','test'], loc='upper left')\n",
    "plt.show()\n",
    "\n",
    "plt.plot(history.history['loss'])\n",
    "plt.plot(history.history['val_loss'])\n",
    "\n",
    "plt.title('model loss')\n",
    "plt.ylabel('loss')\n",
    "plt.xlabel('epoch')\n",
    "plt.legend(['train','test'], loc='upper left')\n",
    "plt.show()"
   ]
  },
  {
   "cell_type": "markdown",
   "metadata": {},
   "source": [
    "# Modeling with LSTM using Discharge Instructions"
   ]
  },
  {
   "cell_type": "code",
   "execution_count": 36,
   "metadata": {},
   "outputs": [],
   "source": [
    "#Creating training and test\n",
    "X_train, X_test, y_train, y_test = train_test_split(df[\"discharge_diagnosis_instructions\"], df[\"Multiple Visits\"], test_size = 0.3, random_state = 42)\n",
    "\n",
    "#Tokenize inputs\n",
    "tokenizer = Tokenizer()\n",
    "tokenizer.fit_on_texts(X_train)\n",
    "X_train =tokenizer.texts_to_sequences(X_train)\n",
    "X_test = tokenizer.texts_to_sequences(X_test)\n",
    "\n",
    "#Padding for same input length\n",
    "vocab_size = len(tokenizer.word_index) + 1\n",
    "# maxlen = max([len(x) for x in X_train])\n",
    "# maxlen = 350\n",
    "maxlen = 150\n",
    "\n",
    "X_train = pad_sequences(X_train, padding = \"post\", maxlen = maxlen)\n",
    "X_test = pad_sequences(X_test, padding = \"post\", maxlen = maxlen)\n",
    "\n",
    "# Reading in GloVe embeddings\n",
    "embeddings_dictionary = dict()\n",
    "glove_file = open('glove.6B.100d.txt', encoding=\"utf8\")\n",
    "\n",
    "for line in glove_file:\n",
    "    records = line.split()\n",
    "    word = records[0]\n",
    "    vector_dimensions = asarray(records[1:], dtype='float32')\n",
    "    embeddings_dictionary [word] = vector_dimensions\n",
    "glove_file.close()\n",
    "\n",
    "# Creating embedding matrix with our words\n",
    "embedding_matrix = zeros((vocab_size, 100))\n",
    "for word, index in tokenizer.word_index.items():\n",
    "    embedding_vector = embeddings_dictionary.get(word)\n",
    "    if embedding_vector is not None:\n",
    "        embedding_matrix[index] = embedding_vector"
   ]
  },
  {
   "cell_type": "code",
   "execution_count": 37,
   "metadata": {},
   "outputs": [
    {
     "name": "stderr",
     "output_type": "stream",
     "text": [
      "C:\\Users\\Kevin\\Anaconda3\\lib\\site-packages\\ipykernel_launcher.py:4: UserWarning: Update your `LSTM` call to the Keras 2 API: `LSTM(60, dropout=0.3, recurrent_dropout=0.3)`\n",
      "  after removing the cwd from sys.path.\n"
     ]
    },
    {
     "name": "stdout",
     "output_type": "stream",
     "text": [
      "Model: \"sequential_3\"\n",
      "_________________________________________________________________\n",
      "Layer (type)                 Output Shape              Param #   \n",
      "=================================================================\n",
      "embedding_3 (Embedding)      (None, 150, 100)          512600    \n",
      "_________________________________________________________________\n",
      "lstm_3 (LSTM)                (None, 60)                38640     \n",
      "_________________________________________________________________\n",
      "dense_3 (Dense)              (None, 1)                 61        \n",
      "=================================================================\n",
      "Total params: 551,301\n",
      "Trainable params: 38,701\n",
      "Non-trainable params: 512,600\n",
      "_________________________________________________________________\n",
      "None\n"
     ]
    }
   ],
   "source": [
    "model = Sequential()\n",
    "embedding_layer = Embedding(vocab_size, 100, weights=[embedding_matrix], input_length=maxlen , trainable=False)\n",
    "model.add(embedding_layer)\n",
    "model.add(LSTM(60, dropout_W = 0.3, dropout_U = 0.3))\n",
    "\n",
    "model.add(Dense(1, activation='sigmoid'))\n",
    "model.compile(optimizer='adam', loss='binary_crossentropy', metrics=['accuracy'])\n",
    "\n",
    "print(model.summary())"
   ]
  },
  {
   "cell_type": "code",
   "execution_count": 38,
   "metadata": {},
   "outputs": [
    {
     "name": "stdout",
     "output_type": "stream",
     "text": [
      "269/269 [==============================] - 0s 852us/step\n"
     ]
    }
   ],
   "source": [
    "history = model.fit(X_train, y_train, batch_size=80, epochs=50, verbose=0, validation_split=0.3)\n",
    "score = model.evaluate(X_test, y_test, verbose=1)"
   ]
  },
  {
   "cell_type": "code",
   "execution_count": 39,
   "metadata": {},
   "outputs": [
    {
     "data": {
      "image/png": "[encoded data removed]",
      "text/plain": [
       "<Figure size 432x288 with 1 Axes>"
      ]
     },
     "metadata": {
      "needs_background": "light"
     },
     "output_type": "display_data"
    },
    {
     "data": {
      "image/png": "[encoded data removed]",
      "text/plain": [
       "<Figure size 432x288 with 1 Axes>"
      ]
     },
     "metadata": {
      "needs_background": "light"
     },
     "output_type": "display_data"
    }
   ],
   "source": [
    "plt.plot(history.history['accuracy'])\n",
    "plt.plot(history.history['val_accuracy'])\n",
    "\n",
    "plt.title('model accuracy')\n",
    "plt.ylabel('accuracy')\n",
    "plt.xlabel('epoch')\n",
    "plt.legend(['train','test'], loc='upper left')\n",
    "plt.show()\n",
    "\n",
    "plt.plot(history.history['loss'])\n",
    "plt.plot(history.history['val_loss'])\n",
    "\n",
    "plt.title('model loss')\n",
    "plt.ylabel('loss')\n",
    "plt.xlabel('epoch')\n",
    "plt.legend(['train','test'], loc='upper left')\n",
    "plt.show()"
   ]
  },
  {
   "cell_type": "markdown",
   "metadata": {},
   "source": [
    "# Modeling with BERT"
   ]
  },
  {
   "cell_type": "markdown",
   "metadata": {},
   "source": [
    "### Setting up TensorFlow"
   ]
  },
  {
   "cell_type": "code",
   "execution_count": 2,
   "metadata": {},
   "outputs": [],
   "source": [
    "df = pd.read_csv(\"final.csv\")"
   ]
  },
  {
   "cell_type": "code",
   "execution_count": 3,
   "metadata": {},
   "outputs": [
    {
     "name": "stdout",
     "output_type": "stream",
     "text": [
      "Found GPU at: /device:GPU:0\n"
     ]
    }
   ],
   "source": [
    "import tensorflow as tf\n",
    "\n",
    "device_name = tf.test.gpu_device_name()\n",
    "if device_name != '/device:GPU:0':\n",
    "  raise SystemError('GPU device not found')\n",
    "print('Found GPU at: {}'.format(device_name))"
   ]
  },
  {
   "cell_type": "code",
   "execution_count": 4,
   "metadata": {},
   "outputs": [
    {
     "name": "stderr",
     "output_type": "stream",
     "text": [
      "Using TensorFlow backend.\n"
     ]
    }
   ],
   "source": [
    "import torch\n",
    "from torch.utils.data import TensorDataset, DataLoader, RandomSampler, SequentialSampler\n",
    "from keras.preprocessing.sequence import pad_sequences\n",
    "from sklearn.model_selection import train_test_split\n",
    "from pytorch_pretrained_bert import BertTokenizer, BertConfig\n",
    "from pytorch_pretrained_bert import BertAdam, BertForSequenceClassification\n",
    "from tqdm import tqdm, trange\n",
    "import pandas as pd\n",
    "import io\n",
    "import numpy as np\n",
    "import matplotlib.pyplot as plt\n",
    "import torch.nn as nn"
   ]
  },
  {
   "cell_type": "code",
   "execution_count": 5,
   "metadata": {},
   "outputs": [
    {
     "data": {
      "text/plain": [
       "'Tesla V100-SXM2-16GB'"
      ]
     },
     "execution_count": 5,
     "metadata": {},
     "output_type": "execute_result"
    }
   ],
   "source": [
    "# set GPU\n",
    "# device = torch.device(\"cuda\")\n",
    "device = torch.device(\"cuda:0\" if torch.cuda.is_available() else \"cpu\")\n",
    "n_gpu = torch.cuda.device_count()\n",
    "torch.cuda.get_device_name(0)"
   ]
  },
  {
   "cell_type": "markdown",
   "metadata": {},
   "source": [
    "### Preprocessing data and setting up BERT"
   ]
  },
  {
   "cell_type": "code",
   "execution_count": 21,
   "metadata": {},
   "outputs": [],
   "source": [
    "# Recreating original, unprocessed text columns\n",
    "temp = df[\"TEXT\"].apply(lambda x: re.search(r'history of present illness:.*?:', x.lower()))\n",
    "df = df.iloc[temp.dropna().index]\n",
    "df[\"hopi\"] = df[\"TEXT\"].apply(lambda x: re.findall(r'history of present illness:.*?:', x.lower())[0].rsplit(\" \", 3)[0])\n",
    "df[\"hopi\"] = [x.split(\":\")[1] if len(x.split(\":\")) == 2 else x for x in df[\"hopi\"]]\n",
    "df = df.reset_index(drop = True)\n",
    "\n",
    "df[\"discharge_diagnosis_instructions\"] = df[\"TEXT\"].apply(lambda x: re.findall(r'discharge diagnosis.*', x.lower()))\n",
    "df[\"discharge_diagnosis_instructions\"] = [x[0] if len(x) > 0 else \"None\" for x in df[\"discharge_diagnosis_instructions\"]]\n",
    "\n",
    "# Adding BERT tags\n",
    "df[\"hopi_bert\"] = [\"[CLS] \" + query + \" [SEP]\" for query in df[\"hopi\"]]\n",
    "\n",
    "# Tokenizing\n",
    "tokenizer = BertTokenizer.from_pretrained('bert-base-uncased', do_lower_case=True)\n",
    "tokenized_texts = [tokenizer.tokenize(sent) for sent in df[\"hopi_bert\"]]\n",
    "\n",
    "tokenized_texts = [x[0:500] if len(x) >= 500 else x for x in tokenized_texts]\n",
    "\n",
    "# Padding tokens and setting ids\n",
    "input_ids = pad_sequences([tokenizer.convert_tokens_to_ids(txt) for txt in tokenized_texts],\n",
    "                          maxlen=500, dtype=\"long\", truncating=\"post\", padding=\"post\")\n",
    "\n",
    "\n",
    "# Create attention masks\n",
    "attention_masks = []\n",
    "\n",
    "for seq in input_ids:\n",
    "  seq_mask = [float(i>0) for i in seq]\n",
    "  attention_masks.append(seq_mask)\n"
   ]
  },
  {
   "cell_type": "markdown",
   "metadata": {},
   "source": [
    "### Creating training/test data"
   ]
  },
  {
   "cell_type": "code",
   "execution_count": 22,
   "metadata": {},
   "outputs": [],
   "source": [
    "# Use train_test_split to split our data into train and validation sets for training\n",
    "train_inputs, validation_inputs, train_labels, validation_labels = train_test_split(input_ids, df[\"Multiple Visits\"].astype(\"category\"), \n",
    "                                                            random_state=42, test_size=0.3)\n",
    "train_masks, validation_masks, _, _ = train_test_split(attention_masks, input_ids,\n",
    "                                             random_state=42, test_size=0.3)\n",
    "                                             \n",
    "# Converting into tensors\n",
    "train_inputs = torch.tensor(train_inputs).long()\n",
    "validation_inputs = torch.tensor(validation_inputs).long()\n",
    "train_labels = torch.tensor(train_labels.values).long()\n",
    "validation_labels = torch.tensor(validation_labels.values).long()\n",
    "train_masks = torch.tensor(train_masks).long()\n",
    "validation_masks = torch.tensor(validation_masks).long()\n",
    "\n",
    "# Batch Size \n",
    "batch_size = 30\n",
    "\n",
    "# Setting up DataLoader\n",
    "train_data = TensorDataset(train_inputs, train_masks, train_labels)\n",
    "train_sampler = RandomSampler(train_data)\n",
    "train_dataloader = DataLoader(train_data, sampler=train_sampler, batch_size=batch_size)\n",
    "validation_data = TensorDataset(validation_inputs, validation_masks, validation_labels)\n",
    "validation_sampler = SequentialSampler(validation_data)\n",
    "validation_dataloader = DataLoader(validation_data, sampler=validation_sampler, batch_size=batch_size)\n"
   ]
  },
  {
   "cell_type": "markdown",
   "metadata": {},
   "source": [
    "### Training BERT"
   ]
  },
  {
   "cell_type": "code",
   "execution_count": 23,
   "metadata": {},
   "outputs": [
    {
     "data": {
      "text/plain": [
       "DataParallel(\n",
       "  (module): BertForSequenceClassification(\n",
       "    (bert): BertModel(\n",
       "      (embeddings): BertEmbeddings(\n",
       "        (word_embeddings): Embedding(30522, 768, padding_idx=0)\n",
       "        (position_embeddings): Embedding(512, 768)\n",
       "        (token_type_embeddings): Embedding(2, 768)\n",
       "        (LayerNorm): BertLayerNorm()\n",
       "        (dropout): Dropout(p=0.1, inplace=False)\n",
       "      )\n",
       "      (encoder): BertEncoder(\n",
       "        (layer): ModuleList(\n",
       "          (0): BertLayer(\n",
       "            (attention): BertAttention(\n",
       "              (self): BertSelfAttention(\n",
       "                (query): Linear(in_features=768, out_features=768, bias=True)\n",
       "                (key): Linear(in_features=768, out_features=768, bias=True)\n",
       "                (value): Linear(in_features=768, out_features=768, bias=True)\n",
       "                (dropout): Dropout(p=0.1, inplace=False)\n",
       "              )\n",
       "              (output): BertSelfOutput(\n",
       "                (dense): Linear(in_features=768, out_features=768, bias=True)\n",
       "                (LayerNorm): BertLayerNorm()\n",
       "                (dropout): Dropout(p=0.1, inplace=False)\n",
       "              )\n",
       "            )\n",
       "            (intermediate): BertIntermediate(\n",
       "              (dense): Linear(in_features=768, out_features=3072, bias=True)\n",
       "            )\n",
       "            (output): BertOutput(\n",
       "              (dense): Linear(in_features=3072, out_features=768, bias=True)\n",
       "              (LayerNorm): BertLayerNorm()\n",
       "              (dropout): Dropout(p=0.1, inplace=False)\n",
       "            )\n",
       "          )\n",
       "          (1): BertLayer(\n",
       "            (attention): BertAttention(\n",
       "              (self): BertSelfAttention(\n",
       "                (query): Linear(in_features=768, out_features=768, bias=True)\n",
       "                (key): Linear(in_features=768, out_features=768, bias=True)\n",
       "                (value): Linear(in_features=768, out_features=768, bias=True)\n",
       "                (dropout): Dropout(p=0.1, inplace=False)\n",
       "              )\n",
       "              (output): BertSelfOutput(\n",
       "                (dense): Linear(in_features=768, out_features=768, bias=True)\n",
       "                (LayerNorm): BertLayerNorm()\n",
       "                (dropout): Dropout(p=0.1, inplace=False)\n",
       "              )\n",
       "            )\n",
       "            (intermediate): BertIntermediate(\n",
       "              (dense): Linear(in_features=768, out_features=3072, bias=True)\n",
       "            )\n",
       "            (output): BertOutput(\n",
       "              (dense): Linear(in_features=3072, out_features=768, bias=True)\n",
       "              (LayerNorm): BertLayerNorm()\n",
       "              (dropout): Dropout(p=0.1, inplace=False)\n",
       "            )\n",
       "          )\n",
       "          (2): BertLayer(\n",
       "            (attention): BertAttention(\n",
       "              (self): BertSelfAttention(\n",
       "                (query): Linear(in_features=768, out_features=768, bias=True)\n",
       "                (key): Linear(in_features=768, out_features=768, bias=True)\n",
       "                (value): Linear(in_features=768, out_features=768, bias=True)\n",
       "                (dropout): Dropout(p=0.1, inplace=False)\n",
       "              )\n",
       "              (output): BertSelfOutput(\n",
       "                (dense): Linear(in_features=768, out_features=768, bias=True)\n",
       "                (LayerNorm): BertLayerNorm()\n",
       "                (dropout): Dropout(p=0.1, inplace=False)\n",
       "              )\n",
       "            )\n",
       "            (intermediate): BertIntermediate(\n",
       "              (dense): Linear(in_features=768, out_features=3072, bias=True)\n",
       "            )\n",
       "            (output): BertOutput(\n",
       "              (dense): Linear(in_features=3072, out_features=768, bias=True)\n",
       "              (LayerNorm): BertLayerNorm()\n",
       "              (dropout): Dropout(p=0.1, inplace=False)\n",
       "            )\n",
       "          )\n",
       "          (3): BertLayer(\n",
       "            (attention): BertAttention(\n",
       "              (self): BertSelfAttention(\n",
       "                (query): Linear(in_features=768, out_features=768, bias=True)\n",
       "                (key): Linear(in_features=768, out_features=768, bias=True)\n",
       "                (value): Linear(in_features=768, out_features=768, bias=True)\n",
       "                (dropout): Dropout(p=0.1, inplace=False)\n",
       "              )\n",
       "              (output): BertSelfOutput(\n",
       "                (dense): Linear(in_features=768, out_features=768, bias=True)\n",
       "                (LayerNorm): BertLayerNorm()\n",
       "                (dropout): Dropout(p=0.1, inplace=False)\n",
       "              )\n",
       "            )\n",
       "            (intermediate): BertIntermediate(\n",
       "              (dense): Linear(in_features=768, out_features=3072, bias=True)\n",
       "            )\n",
       "            (output): BertOutput(\n",
       "              (dense): Linear(in_features=3072, out_features=768, bias=True)\n",
       "              (LayerNorm): BertLayerNorm()\n",
       "              (dropout): Dropout(p=0.1, inplace=False)\n",
       "            )\n",
       "          )\n",
       "          (4): BertLayer(\n",
       "            (attention): BertAttention(\n",
       "              (self): BertSelfAttention(\n",
       "                (query): Linear(in_features=768, out_features=768, bias=True)\n",
       "                (key): Linear(in_features=768, out_features=768, bias=True)\n",
       "                (value): Linear(in_features=768, out_features=768, bias=True)\n",
       "                (dropout): Dropout(p=0.1, inplace=False)\n",
       "              )\n",
       "              (output): BertSelfOutput(\n",
       "                (dense): Linear(in_features=768, out_features=768, bias=True)\n",
       "                (LayerNorm): BertLayerNorm()\n",
       "                (dropout): Dropout(p=0.1, inplace=False)\n",
       "              )\n",
       "            )\n",
       "            (intermediate): BertIntermediate(\n",
       "              (dense): Linear(in_features=768, out_features=3072, bias=True)\n",
       "            )\n",
       "            (output): BertOutput(\n",
       "              (dense): Linear(in_features=3072, out_features=768, bias=True)\n",
       "              (LayerNorm): BertLayerNorm()\n",
       "              (dropout): Dropout(p=0.1, inplace=False)\n",
       "            )\n",
       "          )\n",
       "          (5): BertLayer(\n",
       "            (attention): BertAttention(\n",
       "              (self): BertSelfAttention(\n",
       "                (query): Linear(in_features=768, out_features=768, bias=True)\n",
       "                (key): Linear(in_features=768, out_features=768, bias=True)\n",
       "                (value): Linear(in_features=768, out_features=768, bias=True)\n",
       "                (dropout): Dropout(p=0.1, inplace=False)\n",
       "              )\n",
       "              (output): BertSelfOutput(\n",
       "                (dense): Linear(in_features=768, out_features=768, bias=True)\n",
       "                (LayerNorm): BertLayerNorm()\n",
       "                (dropout): Dropout(p=0.1, inplace=False)\n",
       "              )\n",
       "            )\n",
       "            (intermediate): BertIntermediate(\n",
       "              (dense): Linear(in_features=768, out_features=3072, bias=True)\n",
       "            )\n",
       "            (output): BertOutput(\n",
       "              (dense): Linear(in_features=3072, out_features=768, bias=True)\n",
       "              (LayerNorm): BertLayerNorm()\n",
       "              (dropout): Dropout(p=0.1, inplace=False)\n",
       "            )\n",
       "          )\n",
       "          (6): BertLayer(\n",
       "            (attention): BertAttention(\n",
       "              (self): BertSelfAttention(\n",
       "                (query): Linear(in_features=768, out_features=768, bias=True)\n",
       "                (key): Linear(in_features=768, out_features=768, bias=True)\n",
       "                (value): Linear(in_features=768, out_features=768, bias=True)\n",
       "                (dropout): Dropout(p=0.1, inplace=False)\n",
       "              )\n",
       "              (output): BertSelfOutput(\n",
       "                (dense): Linear(in_features=768, out_features=768, bias=True)\n",
       "                (LayerNorm): BertLayerNorm()\n",
       "                (dropout): Dropout(p=0.1, inplace=False)\n",
       "              )\n",
       "            )\n",
       "            (intermediate): BertIntermediate(\n",
       "              (dense): Linear(in_features=768, out_features=3072, bias=True)\n",
       "            )\n",
       "            (output): BertOutput(\n",
       "              (dense): Linear(in_features=3072, out_features=768, bias=True)\n",
       "              (LayerNorm): BertLayerNorm()\n",
       "              (dropout): Dropout(p=0.1, inplace=False)\n",
       "            )\n",
       "          )\n",
       "          (7): BertLayer(\n",
       "            (attention): BertAttention(\n",
       "              (self): BertSelfAttention(\n",
       "                (query): Linear(in_features=768, out_features=768, bias=True)\n",
       "                (key): Linear(in_features=768, out_features=768, bias=True)\n",
       "                (value): Linear(in_features=768, out_features=768, bias=True)\n",
       "                (dropout): Dropout(p=0.1, inplace=False)\n",
       "              )\n",
       "              (output): BertSelfOutput(\n",
       "                (dense): Linear(in_features=768, out_features=768, bias=True)\n",
       "                (LayerNorm): BertLayerNorm()\n",
       "                (dropout): Dropout(p=0.1, inplace=False)\n",
       "              )\n",
       "            )\n",
       "            (intermediate): BertIntermediate(\n",
       "              (dense): Linear(in_features=768, out_features=3072, bias=True)\n",
       "            )\n",
       "            (output): BertOutput(\n",
       "              (dense): Linear(in_features=3072, out_features=768, bias=True)\n",
       "              (LayerNorm): BertLayerNorm()\n",
       "              (dropout): Dropout(p=0.1, inplace=False)\n",
       "            )\n",
       "          )\n",
       "          (8): BertLayer(\n",
       "            (attention): BertAttention(\n",
       "              (self): BertSelfAttention(\n",
       "                (query): Linear(in_features=768, out_features=768, bias=True)\n",
       "                (key): Linear(in_features=768, out_features=768, bias=True)\n",
       "                (value): Linear(in_features=768, out_features=768, bias=True)\n",
       "                (dropout): Dropout(p=0.1, inplace=False)\n",
       "              )\n",
       "              (output): BertSelfOutput(\n",
       "                (dense): Linear(in_features=768, out_features=768, bias=True)\n",
       "                (LayerNorm): BertLayerNorm()\n",
       "                (dropout): Dropout(p=0.1, inplace=False)\n",
       "              )\n",
       "            )\n",
       "            (intermediate): BertIntermediate(\n",
       "              (dense): Linear(in_features=768, out_features=3072, bias=True)\n",
       "            )\n",
       "            (output): BertOutput(\n",
       "              (dense): Linear(in_features=3072, out_features=768, bias=True)\n",
       "              (LayerNorm): BertLayerNorm()\n",
       "              (dropout): Dropout(p=0.1, inplace=False)\n",
       "            )\n",
       "          )\n",
       "          (9): BertLayer(\n",
       "            (attention): BertAttention(\n",
       "              (self): BertSelfAttention(\n",
       "                (query): Linear(in_features=768, out_features=768, bias=True)\n",
       "                (key): Linear(in_features=768, out_features=768, bias=True)\n",
       "                (value): Linear(in_features=768, out_features=768, bias=True)\n",
       "                (dropout): Dropout(p=0.1, inplace=False)\n",
       "              )\n",
       "              (output): BertSelfOutput(\n",
       "                (dense): Linear(in_features=768, out_features=768, bias=True)\n",
       "                (LayerNorm): BertLayerNorm()\n",
       "                (dropout): Dropout(p=0.1, inplace=False)\n",
       "              )\n",
       "            )\n",
       "            (intermediate): BertIntermediate(\n",
       "              (dense): Linear(in_features=768, out_features=3072, bias=True)\n",
       "            )\n",
       "            (output): BertOutput(\n",
       "              (dense): Linear(in_features=3072, out_features=768, bias=True)\n",
       "              (LayerNorm): BertLayerNorm()\n",
       "              (dropout): Dropout(p=0.1, inplace=False)\n",
       "            )\n",
       "          )\n",
       "          (10): BertLayer(\n",
       "            (attention): BertAttention(\n",
       "              (self): BertSelfAttention(\n",
       "                (query): Linear(in_features=768, out_features=768, bias=True)\n",
       "                (key): Linear(in_features=768, out_features=768, bias=True)\n",
       "                (value): Linear(in_features=768, out_features=768, bias=True)\n",
       "                (dropout): Dropout(p=0.1, inplace=False)\n",
       "              )\n",
       "              (output): BertSelfOutput(\n",
       "                (dense): Linear(in_features=768, out_features=768, bias=True)\n",
       "                (LayerNorm): BertLayerNorm()\n",
       "                (dropout): Dropout(p=0.1, inplace=False)\n",
       "              )\n",
       "            )\n",
       "            (intermediate): BertIntermediate(\n",
       "              (dense): Linear(in_features=768, out_features=3072, bias=True)\n",
       "            )\n",
       "            (output): BertOutput(\n",
       "              (dense): Linear(in_features=3072, out_features=768, bias=True)\n",
       "              (LayerNorm): BertLayerNorm()\n",
       "              (dropout): Dropout(p=0.1, inplace=False)\n",
       "            )\n",
       "          )\n",
       "          (11): BertLayer(\n",
       "            (attention): BertAttention(\n",
       "              (self): BertSelfAttention(\n",
       "                (query): Linear(in_features=768, out_features=768, bias=True)\n",
       "                (key): Linear(in_features=768, out_features=768, bias=True)\n",
       "                (value): Linear(in_features=768, out_features=768, bias=True)\n",
       "                (dropout): Dropout(p=0.1, inplace=False)\n",
       "              )\n",
       "              (output): BertSelfOutput(\n",
       "                (dense): Linear(in_features=768, out_features=768, bias=True)\n",
       "                (LayerNorm): BertLayerNorm()\n",
       "                (dropout): Dropout(p=0.1, inplace=False)\n",
       "              )\n",
       "            )\n",
       "            (intermediate): BertIntermediate(\n",
       "              (dense): Linear(in_features=768, out_features=3072, bias=True)\n",
       "            )\n",
       "            (output): BertOutput(\n",
       "              (dense): Linear(in_features=3072, out_features=768, bias=True)\n",
       "              (LayerNorm): BertLayerNorm()\n",
       "              (dropout): Dropout(p=0.1, inplace=False)\n",
       "            )\n",
       "          )\n",
       "        )\n",
       "      )\n",
       "      (pooler): BertPooler(\n",
       "        (dense): Linear(in_features=768, out_features=768, bias=True)\n",
       "        (activation): Tanh()\n",
       "      )\n",
       "    )\n",
       "    (dropout): Dropout(p=0.1, inplace=False)\n",
       "    (classifier): Linear(in_features=768, out_features=2, bias=True)\n",
       "  )\n",
       ")"
      ]
     },
     "execution_count": 23,
     "metadata": {},
     "output_type": "execute_result"
    }
   ],
   "source": [
    "model = BertForSequenceClassification.from_pretrained(\"bert-base-uncased\", num_labels=2)\n",
    "\n",
    "if torch.cuda.device_count() > 1:\n",
    "  model = nn.DataParallel(model)\n",
    "else:\n",
    "    print(\"Error\")\n",
    "\n",
    "model.to(device)"
   ]
  },
  {
   "cell_type": "code",
   "execution_count": 27,
   "metadata": {},
   "outputs": [
    {
     "name": "stderr",
     "output_type": "stream",
     "text": [
      "t_total value of -1 results in schedule not being applied\n",
      "Epoch:   0%|          | 0/4 [00:00<?, ?it/s]/opt/conda/lib/python3.7/site-packages/torch/nn/parallel/_functions.py:61: UserWarning: Was asked to gather along dimension 0, but all input tensors were scalars; will instead unsqueeze and return a vector.\n",
      "  warnings.warn('Was asked to gather along dimension 0, but all '\n",
      "Epoch: 100%|██████████| 4/4 [00:59<00:00, 14.91s/it]\n"
     ]
    }
   ],
   "source": [
    "accumulation_steps = 10\n",
    "\n",
    "# BERT fine-tuning parameters\n",
    "param_optimizer = list(model.named_parameters())\n",
    "no_decay = ['bias', 'gamma', 'beta']\n",
    "optimizer_grouped_parameters = [\n",
    "    {'params': [p for n, p in param_optimizer if not any(nd in n for nd in no_decay)],\n",
    "     'weight_decay_rate': 0.01},\n",
    "    {'params': [p for n, p in param_optimizer if any(nd in n for nd in no_decay)],\n",
    "     'weight_decay_rate': 0.0}\n",
    "]\n",
    "\n",
    "optimizer = BertAdam(optimizer_grouped_parameters,\n",
    "                     lr=2e-5,\n",
    "                     warmup=.1)\n",
    "\n",
    "# Function to calculate the accuracy of our predictions vs labels\n",
    "def flat_accuracy(preds, labels):\n",
    "    pred_flat = np.argmax(preds, axis=1).flatten()\n",
    "    labels_flat = labels.flatten()\n",
    "    return np.sum(pred_flat == labels_flat) / len(labels_flat)\n",
    "  \n",
    "# Store our loss and accuracy for plotting\n",
    "train_loss_sets = []\n",
    "# Number of training epochs \n",
    "epochs = 4\n",
    "\n",
    "# BERT training loop\n",
    "for _ in trange(epochs, desc=\"Epoch\"):  \n",
    "  \n",
    "  ## TRAINING\n",
    "  \n",
    "  # Set our model to training mode\n",
    "  model.train()  \n",
    "  # Tracking variables\n",
    "  tr_loss = 0\n",
    "  nb_tr_examples, nb_tr_steps = 0, 0\n",
    "  # Train the data for one epoch\n",
    "  for step, batch in enumerate(train_dataloader):\n",
    "    # Add batch to GPU\n",
    "    batch = tuple(t.to(device) for t in batch)\n",
    "    # Unpack the inputs from our dataloader\n",
    "    b_input_ids, b_input_mask, b_labels = batch\n",
    "    # Clear out the gradients (by default they accumulate)\n",
    "    optimizer.zero_grad()\n",
    "    # Forward pass\n",
    "    loss = model(b_input_ids, token_type_ids=None, attention_mask=b_input_mask, labels=b_labels)    \n",
    "    loss = min(loss)\n",
    "    train_loss_sets.append(loss.item())    \n",
    "    # Backward pass\n",
    "    loss.backward()     \n",
    "        if (i+1) % accumulation_steps == 0:             # Wait for several backward steps\n",
    "        optimizer.step()                            # Now we can do an optimizer step\n",
    "        model.zero_grad()                           # Reset gradients tensors\n",
    "        if (i+1) % evaluation_steps == 0:           # Evaluate the model when we...\n",
    "            evaluate_model() \n",
    "    # Update parameters and take a step using the computed gradient\n",
    "#     optimizer.step()\n",
    "    # Update tracking variables\n",
    "    tr_loss += loss.item()\n",
    "    nb_tr_examples += b_input_ids.size(0)\n",
    "    nb_tr_steps += 1\n",
    "#   print(\"Train loss: {}\".format(tr_loss/nb_tr_steps))\n",
    "       \n",
    "  ## VALIDATION\n",
    "\n",
    "  # Put model in evaluation mode\n",
    "  model.eval()\n",
    "  # Tracking variables \n",
    "  eval_loss, eval_accuracy = 0, 0\n",
    "  nb_eval_steps, nb_eval_examples = 0, 0\n",
    "  # Evaluate data for one epoch\n",
    "  for batch in validation_dataloader:\n",
    "    # Add batch to GPU\n",
    "    batch = tuple(t.to(device) for t in batch)\n",
    "    # Unpack the inputs from our dataloader\n",
    "    b_input_ids, b_input_mask, b_labels = batch\n",
    "    # Telling the model not to compute or store gradients, saving memory and speeding up validation\n",
    "    with torch.no_grad():\n",
    "      # Forward pass, calculate logit predictions\n",
    "      logits = model(b_input_ids, token_type_ids=None, attention_mask=b_input_mask)    \n",
    "    # Move logits and labels to CPU\n",
    "    logits = logits.detach().cpu().numpy()\n",
    "    label_ids = b_labels.to('cpu').numpy()\n",
    "    tmp_eval_accuracy = flat_accuracy(logits, label_ids)    \n",
    "    eval_accuracy += tmp_eval_accuracy\n",
    "    nb_eval_steps += 1\n",
    "#   print(\"Validation Accuracy: {}\".format(eval_accuracy/nb_eval_steps))"
   ]
  },
  {
   "cell_type": "code",
   "execution_count": 28,
   "metadata": {},
   "outputs": [
    {
     "data": {
      "image/png": "[encoded data removed]",
      "text/plain": [
       "<Figure size 1080x576 with 1 Axes>"
      ]
     },
     "metadata": {
      "needs_background": "light"
     },
     "output_type": "display_data"
    }
   ],
   "source": [
    "# plot training performance\n",
    "plt.figure(figsize=(15,8))\n",
    "plt.title(\"Training loss\")\n",
    "plt.xlabel(\"Batch\")\n",
    "plt.ylabel(\"Loss\")\n",
    "plt.plot(train_loss_set)\n",
    "plt.show()"
   ]
  },
  {
   "cell_type": "code",
   "execution_count": 32,
   "metadata": {},
   "outputs": [
    {
     "name": "stdout",
     "output_type": "stream",
     "text": [
      "Classification accuracy using BERT Fine Tuning: 87.93%\n"
     ]
    }
   ],
   "source": [
    "# load test data\n",
    "sentences = [\"[CLS] \" + query + \" [SEP]\" for query in query_data_test]\n",
    "labels = intent_data_label_test\n",
    "\n",
    "# tokenize test data\n",
    "tokenized_texts = [tokenizer.tokenize(sent) for sent in sentences]\n",
    "MAX_LEN = 128\n",
    "# Pad our input tokens\n",
    "input_ids = pad_sequences([tokenizer.convert_tokens_to_ids(txt) for txt in tokenized_texts],\n",
    "                          maxlen=MAX_LEN, dtype=\"long\", truncating=\"post\", padding=\"post\")\n",
    "# Use the BERT tokenizer to convert the tokens to their index numbers in the BERT vocabulary\n",
    "input_ids = [tokenizer.convert_tokens_to_ids(x) for x in tokenized_texts]\n",
    "input_ids = pad_sequences(input_ids, maxlen=MAX_LEN, dtype=\"long\", truncating=\"post\", padding=\"post\")\n",
    "# Create attention masks\n",
    "attention_masks = []\n",
    "# Create a mask of 1s for each token followed by 0s for padding\n",
    "for seq in input_ids:\n",
    "  seq_mask = [float(i>0) for i in seq]\n",
    "  attention_masks.append(seq_mask) \n",
    "\n",
    "# create test tensors\n",
    "prediction_inputs = torch.tensor(input_ids)\n",
    "prediction_masks = torch.tensor(attention_masks)\n",
    "prediction_labels = torch.tensor(labels)\n",
    "batch_size = 32  \n",
    "prediction_data = TensorDataset(prediction_inputs, prediction_masks, prediction_labels)\n",
    "prediction_sampler = SequentialSampler(prediction_data)\n",
    "prediction_dataloader = DataLoader(prediction_data, sampler=prediction_sampler, batch_size=batch_size)\n",
    "\n",
    "## Prediction on test set\n",
    "# Put model in evaluation mode\n",
    "model.eval()\n",
    "# Tracking variables \n",
    "predictions , true_labels = [], []\n",
    "# Predict \n",
    "for batch in prediction_dataloader:\n",
    "  # Add batch to GPU\n",
    "  batch = tuple(t.to(device) for t in batch)\n",
    "  # Unpack the inputs from our dataloader\n",
    "  b_input_ids, b_input_mask, b_labels = batch\n",
    "  # Telling the model not to compute or store gradients, saving memory and speeding up prediction\n",
    "  with torch.no_grad():\n",
    "    # Forward pass, calculate logit predictions\n",
    "    logits = model(b_input_ids, token_type_ids=None, attention_mask=b_input_mask)\n",
    "  # Move logits and labels to CPU\n",
    "  logits = logits.detach().cpu().numpy()\n",
    "  label_ids = b_labels.to('cpu').numpy()  \n",
    "  # Store predictions and true labels\n",
    "  predictions.append(logits)\n",
    "  true_labels.append(label_ids)\n",
    "  \n",
    "# Import and evaluate each test batch using Matthew's correlation coefficient\n",
    "from sklearn.metrics import matthews_corrcoef\n",
    "matthews_set = []\n",
    "for i in range(len(true_labels)):\n",
    "  matthews = matthews_corrcoef(true_labels[i],\n",
    "                 np.argmax(predictions[i], axis=1).flatten())\n",
    "  matthews_set.append(matthews)\n",
    "  \n",
    "# Flatten the predictions and true values for aggregate Matthew's evaluation on the whole dataset\n",
    "flat_predictions = [item for sublist in predictions for item in sublist]\n",
    "flat_predictions = np.argmax(flat_predictions, axis=1).flatten()\n",
    "flat_true_labels = [item for sublist in true_labels for item in sublist]\n",
    "\n",
    "print('Classification accuracy using BERT Fine Tuning: {0:0.2%}'.format(matthews_corrcoef(flat_true_labels, flat_predictions)))\n"
   ]
  },
  {
   "cell_type": "markdown",
   "metadata": {},
   "source": [
    "# SCRAP CODE"
   ]
  },
  {
   "cell_type": "code",
   "execution_count": null,
   "metadata": {},
   "outputs": [],
   "source": [
    "# Filtering text based on regex pattern. \n",
    "# Pattern is \"depression\" not followed by \"of\" and not followed by \"region\" or \"area\" in the next 100 characters\n",
    "depression = discharge.iloc[discharge[\"TEXT\"].apply(lambda x: re.search(r'depression (?!of).{0,100}(?!region)(?!area)', x.lower())).dropna().index].reset_index(drop = True)\n",
    "print(\"Number of Patients:\", len(depression[\"SUBJECT_ID\"].unique()))"
   ]
  },
  {
   "cell_type": "code",
   "execution_count": null,
   "metadata": {},
   "outputs": [],
   "source": []
  }
 ],
 "metadata": {
  "kernelspec": {
   "display_name": "Python 3",
   "language": "python",
   "name": "python3"
  },
  "language_info": {
   "codemirror_mode": {
    "name": "ipython",
    "version": 3
   },
   "file_extension": ".py",
   "mimetype": "text/x-python",
   "name": "python",
   "nbconvert_exporter": "python",
   "pygments_lexer": "ipython3",
   "version": "3.6.5"
  }
 },
 "nbformat": 4,
 "nbformat_minor": 4
}
